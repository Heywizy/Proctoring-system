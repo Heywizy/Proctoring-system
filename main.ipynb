{
 "cells": [
  {
   "cell_type": "code",
   "execution_count": 2,
   "metadata": {},
   "outputs": [],
   "source": [
    "import cv2 as cv\n",
    "import psutil\n",
    "import sounddevice as sd\n",
    "import time\n",
    "import pyaudio\n",
    "import numpy as np\n",
    "import keyboard\n",
    "import psutil"
   ]
  },
  {
   "cell_type": "code",
   "execution_count": 16,
   "metadata": {},
   "outputs": [
    {
     "name": "stderr",
     "output_type": "stream",
     "text": [
      "Traceback (most recent call last):\n",
      "  File \"_pydevd_bundle/pydevd_cython.pyx\", line 1078, in _pydevd_bundle.pydevd_cython.PyDBFrame.trace_dispatch\n",
      "  File \"_pydevd_bundle/pydevd_cython.pyx\", line 297, in _pydevd_bundle.pydevd_cython.PyDBFrame.do_wait_suspend\n",
      "  File \"c:\\Users\\USER\\anaconda3\\envs\\Tensorflow\\lib\\site-packages\\debugpy\\_vendored\\pydevd\\pydevd.py\", line 1976, in do_wait_suspend\n",
      "    keep_suspended = self._do_wait_suspend(thread, frame, event, arg, suspend_type, from_this_thread, frames_tracker)\n",
      "  File \"c:\\Users\\USER\\anaconda3\\envs\\Tensorflow\\lib\\site-packages\\debugpy\\_vendored\\pydevd\\pydevd.py\", line 2011, in _do_wait_suspend\n",
      "    time.sleep(0.01)\n",
      "KeyboardInterrupt\n"
     ]
    },
    {
     "ename": "KeyboardInterrupt",
     "evalue": "",
     "output_type": "error",
     "traceback": [
      "\u001b[1;31m---------------------------------------------------------------------------\u001b[0m",
      "\u001b[1;31mKeyboardInterrupt\u001b[0m                         Traceback (most recent call last)",
      "Cell \u001b[1;32mIn[16], line 1\u001b[0m\n\u001b[1;32m----> 1\u001b[0m \u001b[39mimport\u001b[39;00m \u001b[39mpyaudio\u001b[39;00m\n\u001b[0;32m      2\u001b[0m \u001b[39mimport\u001b[39;00m \u001b[39mnumpy\u001b[39;00m \u001b[39mas\u001b[39;00m \u001b[39mnp\u001b[39;00m\n\u001b[0;32m      3\u001b[0m \u001b[39mimport\u001b[39;00m \u001b[39mkeyboard\u001b[39;00m\n",
      "Cell \u001b[1;32mIn[16], line 1\u001b[0m\n\u001b[1;32m----> 1\u001b[0m \u001b[39mimport\u001b[39;00m \u001b[39mpyaudio\u001b[39;00m\n\u001b[0;32m      2\u001b[0m \u001b[39mimport\u001b[39;00m \u001b[39mnumpy\u001b[39;00m \u001b[39mas\u001b[39;00m \u001b[39mnp\u001b[39;00m\n\u001b[0;32m      3\u001b[0m \u001b[39mimport\u001b[39;00m \u001b[39mkeyboard\u001b[39;00m\n",
      "File \u001b[1;32m_pydevd_bundle/pydevd_cython.pyx:1363\u001b[0m, in \u001b[0;36m_pydevd_bundle.pydevd_cython.SafeCallWrapper.__call__\u001b[1;34m()\u001b[0m\n",
      "File \u001b[1;32m_pydevd_bundle/pydevd_cython.pyx:662\u001b[0m, in \u001b[0;36m_pydevd_bundle.pydevd_cython.PyDBFrame.trace_dispatch\u001b[1;34m()\u001b[0m\n",
      "File \u001b[1;32m_pydevd_bundle/pydevd_cython.pyx:1087\u001b[0m, in \u001b[0;36m_pydevd_bundle.pydevd_cython.PyDBFrame.trace_dispatch\u001b[1;34m()\u001b[0m\n",
      "File \u001b[1;32m_pydevd_bundle/pydevd_cython.pyx:1078\u001b[0m, in \u001b[0;36m_pydevd_bundle.pydevd_cython.PyDBFrame.trace_dispatch\u001b[1;34m()\u001b[0m\n",
      "File \u001b[1;32m_pydevd_bundle/pydevd_cython.pyx:297\u001b[0m, in \u001b[0;36m_pydevd_bundle.pydevd_cython.PyDBFrame.do_wait_suspend\u001b[1;34m()\u001b[0m\n",
      "File \u001b[1;32mc:\\Users\\USER\\anaconda3\\envs\\Tensorflow\\lib\\site-packages\\debugpy\\_vendored\\pydevd\\pydevd.py:1976\u001b[0m, in \u001b[0;36mPyDB.do_wait_suspend\u001b[1;34m(self, thread, frame, event, arg, exception_type)\u001b[0m\n\u001b[0;32m   1973\u001b[0m             from_this_thread\u001b[39m.\u001b[39mappend(frame_custom_thread_id)\n\u001b[0;32m   1975\u001b[0m     \u001b[39mwith\u001b[39;00m \u001b[39mself\u001b[39m\u001b[39m.\u001b[39m_threads_suspended_single_notification\u001b[39m.\u001b[39mnotify_thread_suspended(thread_id, stop_reason):\n\u001b[1;32m-> 1976\u001b[0m         keep_suspended \u001b[39m=\u001b[39m \u001b[39mself\u001b[39;49m\u001b[39m.\u001b[39;49m_do_wait_suspend(thread, frame, event, arg, suspend_type, from_this_thread, frames_tracker)\n\u001b[0;32m   1978\u001b[0m frames_list \u001b[39m=\u001b[39m \u001b[39mNone\u001b[39;00m\n\u001b[0;32m   1980\u001b[0m \u001b[39mif\u001b[39;00m keep_suspended:\n\u001b[0;32m   1981\u001b[0m     \u001b[39m# This means that we should pause again after a set next statement.\u001b[39;00m\n",
      "File \u001b[1;32mc:\\Users\\USER\\anaconda3\\envs\\Tensorflow\\lib\\site-packages\\debugpy\\_vendored\\pydevd\\pydevd.py:2011\u001b[0m, in \u001b[0;36mPyDB._do_wait_suspend\u001b[1;34m(self, thread, frame, event, arg, suspend_type, from_this_thread, frames_tracker)\u001b[0m\n\u001b[0;32m   2008\u001b[0m         \u001b[39mself\u001b[39m\u001b[39m.\u001b[39m_call_mpl_hook()\n\u001b[0;32m   2010\u001b[0m     \u001b[39mself\u001b[39m\u001b[39m.\u001b[39mprocess_internal_commands()\n\u001b[1;32m-> 2011\u001b[0m     time\u001b[39m.\u001b[39;49msleep(\u001b[39m0.01\u001b[39;49m)\n\u001b[0;32m   2013\u001b[0m \u001b[39mself\u001b[39m\u001b[39m.\u001b[39mcancel_async_evaluation(get_current_thread_id(thread), \u001b[39mstr\u001b[39m(\u001b[39mid\u001b[39m(frame)))\n\u001b[0;32m   2015\u001b[0m \u001b[39m# process any stepping instructions\u001b[39;00m\n",
      "\u001b[1;31mKeyboardInterrupt\u001b[0m: "
     ]
    }
   ],
   "source": [
    "import pyaudio\n",
    "import numpy as np\n",
    "import keyboard\n",
    "\n",
    "# Define the audio stream parameters\n",
    "FORMAT = pyaudio.paInt16\n",
    "CHANNELS = 1\n",
    "RATE = 44100\n",
    "CHUNK = 1024\n",
    "\n",
    "# Initialize PyAudio object and open the microphone stream\n",
    "audio = pyaudio.PyAudio()\n",
    "stream = audio.open(format=FORMAT, channels=CHANNELS, rate=RATE, input=True, frames_per_buffer=CHUNK)\n",
    "\n",
    "# Define the threshold for detecting sound (adjust as necessary)\n",
    "THRESHOLD = 50\n",
    "\n",
    "# Flag to indicate whether recording is in progress or not\n",
    "recording = True\n",
    "\n",
    "# Continuously read audio data from the microphone stream\n",
    "while recording:\n",
    "    data = stream.read(CHUNK)\n",
    "    # Convert the audio data to a numpy array\n",
    "    audio_data = np.frombuffer(data, dtype=np.int16)\n",
    "    # Calculate the root mean square (RMS) of the audio signal\n",
    "    rms = np.sqrt(np.mean(np.square(audio_data)))\n",
    "    # Check if the RMS exceeds the threshold\n",
    "    if rms > THRESHOLD:\n",
    "        print(f\"Sound detected {rms}\")\n",
    "    else:\n",
    "        print(\"no sound detected\")\n",
    "    # Check for keypress to stop recording\n",
    "    if keyboard.is_pressed('q'):\n",
    "        recording = False\n",
    "\n"
   ]
  },
  {
   "cell_type": "code",
   "execution_count": 14,
   "metadata": {},
   "outputs": [
    {
     "name": "stdout",
     "output_type": "stream",
     "text": [
      "['System Idle Process', 'System', 'fontdrvhost.exe', 'Registry', 'smss.exe', 'spoolsv.exe', 'csrss.exe', 'svchost.exe', 'wininit.exe', 'csrss.exe', 'fontdrvhost.exe', 'services.exe', 'winlogon.exe', 'lsass.exe', 'NisSrv.exe', 'wlanext.exe', 'svchost.exe', 'svchost.exe', 'chrome.exe', 'WUDFHost.exe', 'dwm.exe', 'chrome.exe', 'svchost.exe', 'svchost.exe', 'svchost.exe', 'svchost.exe', 'svchost.exe', 'svchost.exe', 'ShellExperienceHost.exe', 'svchost.exe', 'svchost.exe', 'svchost.exe', 'IntelCpHDCPSvc.exe', 'svchost.exe', 'svchost.exe', 'svchost.exe', 'svchost.exe', 'svchost.exe', 'Code.exe', 'python.exe', 'svchost.exe', 'IntelCpHeciSvc.exe', 'RuntimeBroker.exe', 'msedge.exe', 'svchost.exe', 'svchost.exe', 'AppVShNotify.exe', 'svchost.exe', 'svchost.exe', 'dasHost.exe', 'svchost.exe', 'Spotify.exe', 'vlc.exe', 'svchost.exe', 'WUDFHost.exe', 'LockApp.exe', 'svchost.exe', 'svchost.exe', 'svchost.exe', 'svchost.exe', 'MemCompression', 'svchost.exe', 'igfxCUIService.exe', 'svchost.exe', 'conhost.exe', 'cmd.exe', 'svchost.exe', 'svchost.exe', 'svchost.exe', 'RuntimeBroker.exe', 'igfxEM.exe', 'svchost.exe', 'svchost.exe', 'svchost.exe', 'svchost.exe', 'vlc.exe', 'svchost.exe', 'svchost.exe', 'svchost.exe', 'svchost.exe', 'msedge.exe', 'conhost.exe', 'svchost.exe', 'unsecapp.exe', 'HotKeyServiceUWP.exe', 'svchost.exe', 'svchost.exe', 'svchost.exe', 'svchost.exe', 'UserOOBEBroker.exe', 'svchost.exe', 'svchost.exe', 'svchost.exe', 'CxMonSvc.exe', 'svchost.exe', 'CxUtilSvc.exe', 'svchost.exe', 'svchost.exe', 'fpCSEvtSvc.exe', 'svchost.exe', 'ibtsiva.exe', 'python.exe', 'Code.exe', 'svchost.exe', 'mysqld.exe', 'svchost.exe', 'valWBFPolicyService.exe', 'svchost.exe', 'svchost.exe', 'SynTPEnhService.exe', 'XtuService.exe', 'MsMpEng.exe', 'TeamViewer_Service.exe', 'svchost.exe', 'svchost.exe', 'CompPkgSrv.exe', 'svchost.exe', 'svchost.exe', 'LanWlanWwanSwitchingServiceUWP.exe', 'mysqld.exe', 'Code.exe', 'conhost.exe', 'svchost.exe', 'svchost.exe', 'hpqwmiex.exe', 'svchost.exe', 'RuntimeBroker.exe', 'OfficeClickToRun.exe', 'svchost.exe', 'conhost.exe', 'chrome.exe', 'unsecapp.exe', 'AppHelperCap.exe', 'WmiPrvSE.exe', 'RuntimeBroker.exe', 'RtsCM64.exe', 'svchost.exe', 'svchost.exe', 'StartMenuExperienceHost.exe', 'svchost.exe', 'QLBController.exe', 'python.exe', 'ctfmon.exe', 'RuntimeBroker.exe', 'dllhost.exe', 'SynTPHelper.exe', 'svchost.exe', 'msedge.exe', 'SynTPEnh.exe', 'HPHotkeyNotification.exe', 'sihost.exe', 'svchost.exe', 'svchost.exe', 'taskhostw.exe', 'SmartAudio3.exe', 'chrome.exe', 'WhatsApp.exe', 'explorer.exe', 'taskhostw.exe', 'svchost.exe', 'svchost.exe', 'msedge.exe', 'svchost.exe', 'OneDrive.exe', 'svchost.exe', 'svchost.exe', 'RuntimeBroker.exe', 'Code.exe', 'chrome.exe', 'chrome.exe', 'svchost.exe', 'Code.exe', 'AppVShNotify.exe', 'conhost.exe', 'RuntimeBroker.exe', 'RuntimeBroker.exe', 'jhi_service.exe', 'GoogleCrashHandler64.exe', 'Code.exe', 'Video.UI.exe', 'svchost.exe', 'CodeSetup-stable-b7886d7461186a5eac768481578c1d7ca80e2d21.tmp', 'python.exe', 'chrome.exe', 'Code.exe', 'ApplicationFrameHost.exe', 'DisplayLinkUI.exe', 'SecurityHealthService.exe', 'MpCopyAccelerator.exe', 'Code.exe', 'TextInputHost.exe', 'Cortana.exe', 'chrome.exe', 'chrome.exe', 'svchost.exe', 'dllhost.exe', 'SearchIndexer.exe', 'Code.exe', 'conhost.exe', 'Code.exe', 'SecurityHealthSystray.exe', 'IDMIntegrator64.exe', 'svchost.exe', 'MoUsoCoreWorker.exe', 'chrome.exe', 'smartscreen.exe', 'LMS.exe', 'chrome.exe', 'msedge.exe', 'svchost.exe', 'python.exe', 'msedge.exe', 'svchost.exe', 'msedge.exe', 'PrivacyIconClient.exe', 'chrome.exe', 'notepad.exe', 'msedge.exe', 'NetworkCap.exe', 'SgrmBroker.exe', 'conhost.exe', 'taskhostw.exe', 'vlc.exe', 'powershell.exe', 'chrome.exe', 'svchost.exe', 'Spotify.exe', 'msedge.exe', 'chrome.exe', 'Code.exe', 'SearchApp.exe', 'Microsoft.Photos.exe', 'Spotify.exe', 'chrome.exe', 'Code.exe', 'Code.exe', 'WUDFHost.exe', 'svchost.exe', 'powershell.exe', 'Code.exe', 'backgroundTaskHost.exe', 'msedge.exe', 'Code.exe', 'chrome.exe', 'conhost.exe', 'conhost.exe', 'Spotify.exe', 'Spotify.exe', 'Code.exe', 'chrome.exe', 'CodeSetup-stable-b7886d7461186a5eac768481578c1d7ca80e2d21.exe', 'conhost.exe', 'conhost.exe', 'chrome.exe', 'python.exe', 'chrome.exe', 'SearchApp.exe', 'svchost.exe', 'SysInfoCap.exe', 'audiodg.exe', 'DiagsCap.exe', 'chrome.exe', 'python.exe', 'msedge.exe', 'msedge.exe', 'FileCoAuth.exe', 'msedge.exe', 'RuntimeBroker.exe', 'Spotify.exe', 'GoogleCrashHandler.exe', 'chrome.exe', 'RuntimeBroker.exe', 'conhost.exe']\n",
      "chrome is running, please close it before proceeding with the test\n"
     ]
    }
   ],
   "source": [
    "running_apps = []\n",
    "face = []\n",
    "sound = []\n",
    "warnings = []\n",
    "for i in psutil.process_iter():\n",
    "    running_apps.append(i.name())\n",
    "print(running_apps)\n",
    "if \"chrome.exe\" in running_apps:\n",
    "        print(\"chrome is running, please close it before proceeding with the test\")\n",
    "elif \"teamviewer.exe\" in running_apps:\n",
    "    print(\"teamviewer is running, please close it before proceeding with the test\")\n",
    "else:\n",
    "    print(\"No suspicious app is running, you can proceed with the test\")\n",
    "    video = cv.VideoCapture(0)\n",
    "    a = 1\n",
    "    FORMAT = pyaudio.paInt16\n",
    "    CHANNELS = 1\n",
    "    RATE = 44100\n",
    "    CHUNK = 1024\n",
    "    audio = pyaudio.PyAudio()\n",
    "    stream = audio.open(format=FORMAT, channels=CHANNELS, rate=RATE, input=True, frames_per_buffer=CHUNK)\n",
    "    THRESHOLD = 50\n",
    "    recording = True\n",
    "\n",
    "    while recording:\n",
    "        a += 1\n",
    "        check, frame = video.read()\n",
    "        face_cascade = cv.CascadeClassifier(cv.data.haarcascades + \"haarcascade_frontalface_default.xml\")\n",
    "        faces = face_cascade.detectMultiScale(frame, scaleFactor = 1.1, minNeighbors=5)\n",
    "        data = stream.read(CHUNK)\n",
    "        audio_data = np.frombuffer(data, dtype=np.int16)\n",
    "        rms = np.sqrt(np.mean(np.square(audio_data)))\n",
    "        if rms > THRESHOLD:\n",
    "            print(f\"Sound detected {rms}\")\n",
    "            sound.append(\"noise\")\n",
    "        else:\n",
    "            print(\"no sound detected\")\n",
    "        for x,y,w,h in faces:\n",
    "            frame = cv.rectangle(frame, (x,y), (x+w,y+h), (0,255,0),3)\n",
    "        if faces == ():\n",
    "            print(\"No face detected, please focus on the screen in front of you\")\n",
    "            face.append(\"no face\")\n",
    "        else:\n",
    "            print(x,y,w,h)\n",
    "        \n",
    "        cv.imshow(\"capturing\", frame)\n",
    "        key = cv.waitKey(1)\n",
    "\n",
    "        if keyboard.is_pressed('q'):\n",
    "            recording = False\n",
    "\n",
    "    print(a)\n",
    "    video.release()\n",
    "    cv.destroyAllWindows()"
   ]
  }
 ],
 "metadata": {
  "kernelspec": {
   "display_name": "Tensorflow",
   "language": "python",
   "name": "python3"
  },
  "language_info": {
   "codemirror_mode": {
    "name": "ipython",
    "version": 3
   },
   "file_extension": ".py",
   "mimetype": "text/x-python",
   "name": "python",
   "nbconvert_exporter": "python",
   "pygments_lexer": "ipython3",
   "version": "3.9.16"
  },
  "orig_nbformat": 4,
  "vscode": {
   "interpreter": {
    "hash": "41cdc745573bebe08eef18c8d72dcc20eae9a6a8f0ab1fb65cbcfc4d0d3989ce"
   }
  }
 },
 "nbformat": 4,
 "nbformat_minor": 2
}
